{
 "cells": [
  {
   "cell_type": "code",
   "execution_count": 1,
   "id": "6dc4915d",
   "metadata": {},
   "outputs": [],
   "source": [
    "import pandas as pd"
   ]
  },
  {
   "cell_type": "code",
   "execution_count": null,
   "id": "05fe1b7e",
   "metadata": {},
   "outputs": [],
   "source": [
    "df = pd.read_csv('csv_file.csv')\n",
    "df"
   ]
  },
  {
   "cell_type": "code",
   "execution_count": 16,
   "id": "db3fa81f",
   "metadata": {},
   "outputs": [
    {
     "name": "stdout",
     "output_type": "stream",
     "text": [
      "empty_file.csv Пустой файл\n"
     ]
    }
   ],
   "source": [
    "from pathlib import Path\n",
    "\n",
    "for file in Path('data').rglob('*.csv'):\n",
    "    # print(file.name, \"→\", file.resolve())\n",
    "    if file.stat().st_size == 0:\n",
    "        print(file.name, 'Пустой файл')"
   ]
  },
  {
   "cell_type": "code",
   "execution_count": null,
   "id": "52cd4496",
   "metadata": {},
   "outputs": [],
   "source": []
  }
 ],
 "metadata": {
  "kernelspec": {
   "display_name": "venv",
   "language": "python",
   "name": "python3"
  },
  "language_info": {
   "codemirror_mode": {
    "name": "ipython",
    "version": 3
   },
   "file_extension": ".py",
   "mimetype": "text/x-python",
   "name": "python",
   "nbconvert_exporter": "python",
   "pygments_lexer": "ipython3",
   "version": "3.12.4"
  }
 },
 "nbformat": 4,
 "nbformat_minor": 5
}
