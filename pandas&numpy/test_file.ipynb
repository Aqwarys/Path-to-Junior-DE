{
 "cells": [
  {
   "cell_type": "code",
   "execution_count": 1,
   "id": "6dc4915d",
   "metadata": {},
   "outputs": [],
   "source": [
    "import pandas as pd"
   ]
  },
  {
   "cell_type": "code",
   "execution_count": null,
   "id": "05fe1b7e",
   "metadata": {},
   "outputs": [],
   "source": [
    "df = pd.read_csv('csv_file.csv')\n",
    "df"
   ]
  },
  {
   "cell_type": "code",
   "execution_count": null,
   "id": "db3fa81f",
   "metadata": {},
   "outputs": [
    {
     "name": "stdout",
     "output_type": "stream",
     "text": [
      "empty_file.csv Пустой файл\n"
     ]
    }
   ],
   "source": [
    "from pathlib import Path\n",
    "\n",
    "for file in Path('data').rglob('*.csv'):\n",
    "    # print(file.name, \"→\", file.resolve())\n",
    "    # Проверка файл пустой(0 байт) или нет0\n",
    "    if file.stat().st_size == 0:\n",
    "        print(file.name, 'Пустой файл')"
   ]
  },
  {
   "cell_type": "code",
   "execution_count": null,
   "id": "52cd4496",
   "metadata": {},
   "outputs": [
    {
     "name": "stdout",
     "output_type": "stream",
     "text": [
      "Directory reports already exists\n"
     ]
    },
    {
     "ename": "",
     "evalue": "",
     "output_type": "error",
     "traceback": [
      "\u001b[1;31mThe Kernel crashed while executing code in the current cell or a previous cell. \n",
      "\u001b[1;31mPlease review the code in the cell(s) to identify a possible cause of the failure. \n",
      "\u001b[1;31mClick <a href='https://aka.ms/vscodeJupyterKernelCrash'>here</a> for more info. \n",
      "\u001b[1;31mView Jupyter <a href='command:jupyter.viewOutput'>log</a> for further details."
     ]
    }
   ],
   "source": [
    "from datetime import date\n",
    "\n",
    "if Path('reports').exists():\n",
    "    print('Directory reports already exists')\n",
    "else:\n",
    "    folder = Path('reports') / str(date.today())\n",
    "    folder.mkdir(parents=True, exist_ok=True)\n",
    "    print('Folder created')"
   ]
  }
 ],
 "metadata": {
  "kernelspec": {
   "display_name": "venv",
   "language": "python",
   "name": "python3"
  },
  "language_info": {
   "codemirror_mode": {
    "name": "ipython",
    "version": 3
   },
   "file_extension": ".py",
   "mimetype": "text/x-python",
   "name": "python",
   "nbconvert_exporter": "python",
   "pygments_lexer": "ipython3",
   "version": "3.12.4"
  }
 },
 "nbformat": 4,
 "nbformat_minor": 5
}
